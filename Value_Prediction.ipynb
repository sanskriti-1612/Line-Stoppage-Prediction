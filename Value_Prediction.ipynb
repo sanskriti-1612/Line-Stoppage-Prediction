{
  "nbformat": 4,
  "nbformat_minor": 0,
  "metadata": {
    "colab": {
      "provenance": []
    },
    "kernelspec": {
      "name": "python3",
      "display_name": "Python 3"
    },
    "language_info": {
      "name": "python"
    }
  },
  "cells": [
    {
      "cell_type": "code",
      "execution_count": null,
      "metadata": {
        "id": "JQpwAuyTX1Zo"
      },
      "outputs": [],
      "source": [
        "import warnings\n",
        "import numpy as np\n",
        "import pandas as pd\n",
        "import matplotlib.pyplot as plt\n",
        "from keras import optimizers\n",
        "from keras.utils import plot_model\n",
        "from keras.models import Sequential, Model\n",
        "from keras.layers.convolutional import Conv1D, MaxPooling1D\n",
        "from keras.layers import Dense, LSTM, RepeatVector, TimeDistributed, Flatten\n",
        "from sklearn.metrics import mean_squared_error\n",
        "from sklearn.model_selection import train_test_split\n",
        "import tensorflow as tf\n",
        "\n",
        "%matplotlib inline\n",
        "warnings.filterwarnings(\"ignore\")\n",
        "\n",
        "# Set seeds to make the experiment more reproducible.\n",
        "# import tensorflow as tf\n",
        "# tf.random.set_seed()\n",
        "# from numpy.random import seed\n",
        "# seed(1)"
      ]
    },
    {
      "cell_type": "code",
      "source": [
        "from tensorflow.keras import Sequential\n",
        "from tensorflow.keras.layers import LSTM, Dense, Dropout, TimeDistributed, Conv1D, MaxPooling1D, Flatten, Bidirectional, Input, Flatten, Activation, Reshape, RepeatVector, Concatenate\n",
        "from tensorflow.keras.models import Model\n",
        "from tensorflow.keras.utils import plot_model\n",
        "from tensorflow.keras.callbacks import EarlyStopping, ReduceLROnPlateau, ModelCheckpoint"
      ],
      "metadata": {
        "id": "OIIT_vJgcoIr"
      },
      "execution_count": null,
      "outputs": []
    },
    {
      "cell_type": "code",
      "source": [
        "# from google.colab import drive\n",
        "# drive.mount('/content/drive')"
      ],
      "metadata": {
        "id": "ato07OUqc2rA"
      },
      "execution_count": null,
      "outputs": []
    },
    {
      "cell_type": "code",
      "source": [
        "#importing MinMaxScaler from sklearn module\n",
        "from sklearn.preprocessing import MinMaxScaler\n",
        "cpu_list = [i for i in train_data.columns if i != 'Stop_Time']\n",
        "scaler = MinMaxScaler()\n",
        "#preprocessing the data for model training.\n",
        "scaled_train = scaler.fit_transform(train_data[cpu_list])\n",
        "# scaled_test = scaler.transform(test[cpu_list])"
      ],
      "metadata": {
        "id": "dtqcNJqcmB0l"
      },
      "execution_count": null,
      "outputs": []
    },
    {
      "cell_type": "code",
      "source": [
        "#importing the saved model\n",
        "model = tf.keras.models.load_model('/content/drive/MyDrive/other docs /new_model_early_stop.h5')"
      ],
      "metadata": {
        "id": "nnQrGSDWmJV-"
      },
      "execution_count": null,
      "outputs": []
    },
    {
      "cell_type": "code",
      "source": [
        "#model summary hi hai, ab kya har chiz ka explaination chahiye\n",
        "model.summary()"
      ],
      "metadata": {
        "colab": {
          "base_uri": "https://localhost:8080/"
        },
        "id": "3Fwxezjqmen9",
        "outputId": "829766fa-0759-4465-f29b-12571f5b5780"
      },
      "execution_count": null,
      "outputs": [
        {
          "output_type": "stream",
          "name": "stdout",
          "text": [
            "Model: \"model\"\n",
            "_________________________________________________________________\n",
            " Layer (type)                Output Shape              Param #   \n",
            "=================================================================\n",
            " input_1 (InputLayer)        [(None, 6, 30)]           0         \n",
            "                                                                 \n",
            " conv1d (Conv1D)             (None, 5, 64)             3904      \n",
            "                                                                 \n",
            " max_pooling1d (MaxPooling1D  (None, 2, 64)            0         \n",
            " )                                                               \n",
            "                                                                 \n",
            " lstm (LSTM)                 (None, 50)                23000     \n",
            "                                                                 \n",
            " repeat_vector (RepeatVector  (None, 1, 50)            0         \n",
            " )                                                               \n",
            "                                                                 \n",
            " lstm_1 (LSTM)               (None, 1, 50)             20200     \n",
            "                                                                 \n",
            " dropout (Dropout)           (None, 1, 50)             0         \n",
            "                                                                 \n",
            " dense (Dense)               (None, 1, 30)             1530      \n",
            "                                                                 \n",
            "=================================================================\n",
            "Total params: 48,634\n",
            "Trainable params: 48,634\n",
            "Non-trainable params: 0\n",
            "_________________________________________________________________\n"
          ]
        }
      ]
    },
    {
      "cell_type": "code",
      "source": [
        "#slicing the data\n",
        "scaled_train2=scaled_train[-6:]\n",
        "#rehaping the data\n",
        "scaled_train2=scaled_train2.reshape((1,6,30))\n",
        "print(scaled_train2.shape)"
      ],
      "metadata": {
        "colab": {
          "base_uri": "https://localhost:8080/"
        },
        "id": "-2nI7lAYmqD9",
        "outputId": "f63390fd-876a-4b31-e69b-dc4b4b86b2ff"
      },
      "execution_count": null,
      "outputs": [
        {
          "output_type": "stream",
          "name": "stdout",
          "text": [
            "(1, 6, 30)\n"
          ]
        }
      ]
    },
    {
      "cell_type": "code",
      "source": [
        "predicted_data = model.predict(scaled_train2)\n"
      ],
      "metadata": {
        "colab": {
          "base_uri": "https://localhost:8080/"
        },
        "id": "6js4vjppnD6C",
        "outputId": "5e50b694-d33f-442d-c435-38c1012d91c3"
      },
      "execution_count": null,
      "outputs": [
        {
          "output_type": "stream",
          "name": "stdout",
          "text": [
            "1/1 [==============================] - 1s 1s/step\n"
          ]
        }
      ]
    },
    {
      "cell_type": "code",
      "source": [
        "predicted_data"
      ],
      "metadata": {
        "colab": {
          "base_uri": "https://localhost:8080/"
        },
        "id": "eejSp_iRnNo4",
        "outputId": "14908bb0-b100-47ff-f0ac-9c8c70a8d629"
      },
      "execution_count": null,
      "outputs": [
        {
          "output_type": "execute_result",
          "data": {
            "text/plain": [
              "array([[[ 0.7252082 , -0.03965065,  0.83415866,  0.05895245,\n",
              "          0.01116333,  0.0317661 ,  0.01663788,  0.01483203,\n",
              "          0.03694849,  0.04107266, -0.04393585,  0.83992565,\n",
              "          0.0076144 ,  0.04545286, -0.04660995,  0.01148286,\n",
              "          0.00336843, -0.00672225,  0.00487877,  0.00719484,\n",
              "          0.00925014,  0.85090435, -0.00402906,  0.04587349,\n",
              "         -0.00673541,  0.01230929,  0.01008481, -0.00281032,\n",
              "          0.00302563,  0.44835973]]], dtype=float32)"
            ]
          },
          "metadata": {},
          "execution_count": 11
        }
      ]
    },
    {
      "cell_type": "code",
      "source": [
        "#Scaling back the data to the original representation\n",
        "scaled_train3=scaler.inverse_transform(predicted_data[0])\n",
        "print(scaled_train3)"
      ],
      "metadata": {
        "colab": {
          "base_uri": "https://localhost:8080/"
        },
        "id": "0tw3eyxNnQ0r",
        "outputId": "fe798eda-9d96-422a-fcc7-5f2cec2fa9d4"
      },
      "execution_count": null,
      "outputs": [
        {
          "output_type": "stream",
          "name": "stdout",
          "text": [
            "[[ 1.66797886e+01 -7.93012977e-01  5.17079353e+00  5.89524567e-01\n",
            "   1.22796655e-01  3.17661017e-01  1.99654579e-01  1.18656278e-01\n",
            "   5.17278910e-01  4.92871910e-01 -8.78717065e-01  5.19962835e+00\n",
            "   2.20817536e-01  6.36340082e-01 -9.32199001e-01  2.29657199e-02\n",
            "   3.36843170e-03 -2.68889870e-02  3.90301272e-02  7.19484361e-03\n",
            "   9.25014354e-03  5.25452185e+00 -1.16842717e-01  2.75240898e-01\n",
            "  -5.38832620e-02  2.46185753e-02  5.04240729e-02 -1.68619361e-02\n",
            "   3.02563310e-02  5.82867622e+00]]\n"
          ]
        }
      ]
    },
    {
      "cell_type": "code",
      "source": [
        "#reducing the negative to zero\n",
        "for x in range(30):\n",
        "  if(scaled_train3[0][x]<0):\n",
        "    scaled_train3[0][x]=0\n",
        "np.set_printoptions(suppress=True)\n",
        "print(scaled_train3[0])\n"
      ],
      "metadata": {
        "colab": {
          "base_uri": "https://localhost:8080/"
        },
        "id": "nwEQoZPhrfqb",
        "outputId": "80a843a5-2749-4fd6-8465-76eace0a4e70"
      },
      "execution_count": null,
      "outputs": [
        {
          "output_type": "stream",
          "name": "stdout",
          "text": [
            "[16.679789    0.          5.1707935   0.58952457  0.12279665  0.31766102\n",
            "  0.19965458  0.11865628  0.5172789   0.4928719   0.          5.1996284\n",
            "  0.22081754  0.6363401   0.          0.02296572  0.00336843  0.\n",
            "  0.03903013  0.00719484  0.00925014  5.254522    0.          0.2752409\n",
            "  0.          0.02461858  0.05042407  0.          0.03025633  5.828676  ]\n"
          ]
        }
      ]
    },
    {
      "cell_type": "code",
      "source": [
        "def calc_max_remark(scaled_train3):\n",
        "  scaled_train4 = scaled_train3[0][-15:]\n",
        "  max_remark_value = np.max(scaled_train4)\n",
        "  print('Remark 15- ',max_remark_value)\n",
        "calc_max_remark(scaled_train3)\n"
      ],
      "metadata": {
        "colab": {
          "base_uri": "https://localhost:8080/"
        },
        "id": "6Wtip_C1xui-",
        "outputId": "d836878a-4601-44e7-9128-3b62e8708503"
      },
      "execution_count": null,
      "outputs": [
        {
          "output_type": "stream",
          "name": "stdout",
          "text": [
            "Remark 15-  5.828676\n"
          ]
        }
      ]
    },
    {
      "cell_type": "code",
      "source": [
        "def calc_max_station(scaled_train3):\n",
        "  scaled_train4 = scaled_train3[0][:15]\n",
        "  max_remark_value = np.max(scaled_train4)\n",
        "  print('Station 1 is prone to next line stoppage- ',max_remark_value)\n",
        "calc_max_station(scaled_train3)"
      ],
      "metadata": {
        "id": "_emgUZLUyYpN",
        "outputId": "32bc6c3c-9a40-406f-e050-21e574c35194",
        "colab": {
          "base_uri": "https://localhost:8080/"
        }
      },
      "execution_count": null,
      "outputs": [
        {
          "output_type": "stream",
          "name": "stdout",
          "text": [
            "Station 1 is prone to next line stoppage-  16.679789\n"
          ]
        }
      ]
    }
  ]
}