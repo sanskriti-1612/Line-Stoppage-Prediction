{
  "cells": [
    {
      "cell_type": "code",
      "execution_count": null,
      "metadata": {
        "id": "tFSSzr7ayZnH"
      },
      "outputs": [],
      "source": [
        "import warnings\n",
        "import numpy as np\n",
        "import pandas as pd\n",
        "import matplotlib.pyplot as plt\n",
        "from keras import optimizers\n",
        "from keras.utils import plot_model\n",
        "from keras.models import Sequential, Model\n",
        "from keras.layers.convolutional import Conv1D, MaxPooling1D\n",
        "from keras.layers import Dense, LSTM, RepeatVector, TimeDistributed, Flatten\n",
        "from sklearn.metrics import mean_squared_error\n",
        "from sklearn.model_selection import train_test_split\n",
        "import tensorflow as tf\n",
        "\n",
        "%matplotlib inline\n",
        "warnings.filterwarnings(\"ignore\")\n",
        "\n",
        "# Set seeds to make the experiment more reproducible.\n",
        "# import tensorflow as tf\n",
        "# tf.random.set_seed()\n",
        "# from numpy.random import seed\n",
        "# seed(1)"
      ]
    },
    {
      "cell_type": "code",
      "execution_count": null,
      "metadata": {
        "id": "2ZvEiP-XDXac"
      },
      "outputs": [],
      "source": [
        "from tensorflow.keras import Sequential\n",
        "from tensorflow.keras.layers import LSTM, Dense, Dropout, TimeDistributed, Conv1D, MaxPooling1D, Flatten, Bidirectional, Input, Flatten, Activation, Reshape, RepeatVector, Concatenate\n",
        "from tensorflow.keras.models import Model\n",
        "from tensorflow.keras.utils import plot_model\n",
        "from tensorflow.keras.callbacks import EarlyStopping, ReduceLROnPlateau, ModelCheckpoint"
      ]
    },
    {
      "cell_type": "code",
      "execution_count": null,
      "metadata": {
        "id": "p39IOfle1Eok"
      },
      "outputs": [],
      "source": [
        "# from google.colab import drive\n",
        "# drive.mount('/content/drive')"
      ]
    },
    {
      "cell_type": "code",
      "execution_count": null,
      "metadata": {
        "id": "Ov4yFocwycv-"
      },
      "outputs": [],
      "source": [
        "train = pd.read_csv('train_time_data_new.csv')\n",
        "test = pd.read_csv('test_time_data_new.csv')\n",
        "# train, test"
      ]
    },
    {
      "cell_type": "code",
      "execution_count": null,
      "metadata": {
        "id": "0xkTheyHeqga"
      },
      "outputs": [],
      "source": [
        "train.drop(columns=['Stop_Time'], inplace=True)\n",
        "test.drop(columns=['Stop_Time'], inplace=True)"
      ]
    },
    {
      "cell_type": "code",
      "execution_count": null,
      "metadata": {
        "id": "7MEgLGGPB61L"
      },
      "outputs": [],
      "source": [
        "l1 = ['Time_Since_Shift_Start','Time_Since_Morning','Station_Name_1-Stop_Reason_1-Remark_1',\n",
        " 'Station_Name_1-Stop_Reason_3-Remark_12',\n",
        " 'Station_Name_1-Stop_Reason_3-Remark_8',\n",
        " 'Station_Name_10-Stop_Reason_4-Remark_4',\n",
        " 'Station_Name_2-Stop_Reason_2-Remark_2',\n",
        " 'Station_Name_3-Stop_Reason_3-Remark_10',\n",
        " 'Station_Name_3-Stop_Reason_3-Remark_3',\n",
        " 'Station_Name_3-Stop_Reason_3-Remark_6',\n",
        " 'Station_Name_3-Stop_Reason_3-Remark_7',\n",
        " 'Station_Name_3-Stop_Reason_4-Remark_4',\n",
        " 'Station_Name_4-Stop_Reason_3-Remark_5',\n",
        " 'Station_Name_4-Stop_Reason_4-Remark_4',\n",
        " 'Station_Name_5-Stop_Reason_4-Remark_4',\n",
        " 'Station_Name_6-Stop_Reason_3-Remark_13',\n",
        " 'Station_Name_6-Stop_Reason_3-Remark_15',\n",
        " 'Station_Name_6-Stop_Reason_4-Remark_4',\n",
        " 'Station_Name_7-Stop_Reason_3-Remark_14',\n",
        " 'Station_Name_7-Stop_Reason_3-Remark_9',\n",
        " 'Station_Name_7-Stop_Reason_4-Remark_4',\n",
        " 'Station_Name_8-Stop_Reason_3-Remark_11',\n",
        " 'Station_Name_8-Stop_Reason_4-Remark_4',\n",
        " 'Station_Name_9-Stop_Reason_4-Remark_4']"
      ]
    },
    {
      "cell_type": "code",
      "execution_count": null,
      "metadata": {
        "id": "w1QR9QZVCWgf"
      },
      "outputs": [],
      "source": [
        "from sklearn.preprocessing import MinMaxScaler\n",
        "cpu_list = [i for i in train.columns if i != 'Stop_Time']\n",
        "scaler = MinMaxScaler()\n",
        "scaled_train = scaler.fit_transform(train[cpu_list])\n",
        "scaled_test = scaler.transform(test[cpu_list])"
      ]
    },
    {
      "cell_type": "code",
      "execution_count": null,
      "metadata": {
        "id": "VqpWXFDuCjpq"
      },
      "outputs": [],
      "source": [
        "def split_sequence(sequence, look_back, forecast_horizon):\n",
        " X, y = list(), list()\n",
        " for i in range(len(sequence)):\n",
        "   lag_end = i + look_back\n",
        "   forecast_end = lag_end + forecast_horizon\n",
        "   if forecast_end > len(sequence):\n",
        "     break\n",
        "   seq_x, seq_y = sequence[i:lag_end], sequence[lag_end:forecast_end]\n",
        "   X.append(seq_x)\n",
        "   y.append(seq_y)\n",
        " return np.array(X), np.array(y)"
      ]
    },
    {
      "cell_type": "code",
      "execution_count": null,
      "metadata": {
        "colab": {
          "base_uri": "https://localhost:8080/"
        },
        "id": "PIGWDAtBCpQA",
        "outputId": "7d9f66b0-00f5-4c51-85a6-996bd4834f51"
      },
      "outputs": [
        {
          "name": "stdout",
          "output_type": "stream",
          "text": [
            "(5331, 24, 30)\n",
            "(5331, 4, 30)\n",
            "(2758, 24, 30)\n",
            "(2758, 4, 30)\n"
          ]
        }
      ],
      "source": [
        "n_features = len(cpu_list)\n",
        "X_train, y_train = split_sequence(scaled_train, look_back=LOOK_BACK, forecast_horizon=FORECAST_RANGE)\n",
        "X_test, y_test = split_sequence(scaled_test, look_back=LOOK_BACK, forecast_horizon=FORECAST_RANGE)\n",
        "print(X_train.shape)\n",
        "print(y_train.shape)\n",
        "print(X_test.shape)\n",
        "print(y_test.shape)"
      ]
    },
    {
      "cell_type": "code",
      "execution_count": null,
      "metadata": {
        "id": "r89kD0KNDKdv"
      },
      "outputs": [],
      "source": [
        "checkpoint_filepath = 'path_to_checkpoint_filepath'\n",
        "checkpoint_callback = ModelCheckpoint(\n",
        " filepath=checkpoint_filepath,\n",
        " save_weights_only=False,\n",
        " monitor='val_loss',\n",
        " mode='min',\n",
        " save_best_only=True)\n",
        "early_stopping_callback = EarlyStopping(\n",
        " monitor=\"val_loss\",\n",
        " min_delta=0.005,\n",
        " patience=10,\n",
        " mode=\"min\"\n",
        ")\n",
        "rlrop_callback = ReduceLROnPlateau(monitor='val_loss', factor=0.2, mode='min', patience=3, min_lr=0.001)"
      ]
    },
    {
      "cell_type": "code",
      "execution_count": null,
      "metadata": {
        "id": "-Nk1QgUyDPVE"
      },
      "outputs": [],
      "source": [
        "def inverse_transform(y_test, yhat):\n",
        " y_test_reshaped = y_test.reshape(-1, y_test.shape[-1])\n",
        " yhat_reshaped = yhat.reshape(-1, yhat.shape[-1])\n",
        " yhat_inverse = scaler.inverse_transform(yhat_reshaped)\n",
        " y_test_inverse = scaler.inverse_transform(y_test_reshaped)\n",
        " return yhat_inverse, y_test_inverse"
      ]
    },
    {
      "cell_type": "code",
      "execution_count": null,
      "metadata": {
        "id": "m4QkPBQJDUqp"
      },
      "outputs": [],
      "source": [
        "def evaluate_forecast(y_test_inverse, yhat_inverse):\n",
        " mse_ = tf.keras.losses.MeanSquaredError()\n",
        " mae_ = tf.keras.losses.MeanAbsoluteError()\n",
        " mape_ = tf.keras.losses.MeanAbsolutePercentageError()\n",
        " mae = mae_(y_test_inverse,yhat_inverse)\n",
        " print('mae:', mae)\n",
        " mse = mse_(y_test_inverse,yhat_inverse)\n",
        " print('mse:', mse)\n",
        " mape = mape_(y_test_inverse,yhat_inverse)\n",
        " print('mape:', mape)"
      ]
    },
    {
      "cell_type": "code",
      "execution_count": null,
      "metadata": {
        "id": "fUwMe_61Dhhj"
      },
      "outputs": [],
      "source": [
        "epochs = 50\n",
        "batch_size = 32\n",
        "validation = 0.1"
      ]
    },
    {
      "cell_type": "code",
      "execution_count": null,
      "metadata": {
        "id": "e48zf6hNbZ9z"
      },
      "outputs": [],
      "source": [
        "num_samples = 6624"
      ]
    },
    {
      "cell_type": "code",
      "execution_count": null,
      "metadata": {
        "colab": {
          "base_uri": "https://localhost:8080/"
        },
        "id": "Csn6XTtKEobe",
        "outputId": "56e808f1-13d4-464f-d47e-8cc049d23013"
      },
      "outputs": [
        {
          "name": "stdout",
          "output_type": "stream",
          "text": [
            "mae: tf.Tensor(0.23641124, shape=(), dtype=float32)\n",
            "mse: tf.Tensor(0.61856437, shape=(), dtype=float32)\n",
            "mape: tf.Tensor(113829970.0, shape=(), dtype=float32)\n"
          ]
        }
      ],
      "source": [
        "evaluate_forecast(y_test_inverse, yhat_inverse)"
      ]
    },
    {
      "cell_type": "code",
      "execution_count": null,
      "metadata": {
        "id": "0EEjS-08bZ-F",
        "outputId": "3266d6fe-b81a-4733-caa2-6e2bdcfc296a"
      },
      "outputs": [
        {
          "data": {
            "text/html": [
              "<div>\n",
              "<style scoped>\n",
              "    .dataframe tbody tr th:only-of-type {\n",
              "        vertical-align: middle;\n",
              "    }\n",
              "\n",
              "    .dataframe tbody tr th {\n",
              "        vertical-align: top;\n",
              "    }\n",
              "\n",
              "    .dataframe thead th {\n",
              "        text-align: right;\n",
              "    }\n",
              "</style>\n",
              "<table border=\"1\" class=\"dataframe\">\n",
              "  <thead>\n",
              "    <tr style=\"text-align: right;\">\n",
              "      <th></th>\n",
              "      <th>Time_Since_Morning</th>\n",
              "      <th>Station_Name-Station_Name_1</th>\n",
              "      <th>Station_Name-Station_Name_2</th>\n",
              "      <th>Station_Name-Station_Name_3</th>\n",
              "      <th>Station_Name-Station_Name_4</th>\n",
              "      <th>Station_Name-Station_Name_5</th>\n",
              "      <th>Station_Name-Station_Name_6</th>\n",
              "      <th>Station_Name-Station_Name_7</th>\n",
              "      <th>Station_Name-Station_Name_8</th>\n",
              "      <th>Station_Name-Station_Name_9</th>\n",
              "      <th>...</th>\n",
              "      <th>Remarks-Remark_15</th>\n",
              "      <th>Remarks-Remark_2</th>\n",
              "      <th>Remarks-Remark_3</th>\n",
              "      <th>Remarks-Remark_4</th>\n",
              "      <th>Remarks-Remark_5</th>\n",
              "      <th>Remarks-Remark_6</th>\n",
              "      <th>Remarks-Remark_7</th>\n",
              "      <th>Remarks-Remark_8</th>\n",
              "      <th>Remarks-Remark_9</th>\n",
              "      <th>Time_Since_Shift_Start</th>\n",
              "    </tr>\n",
              "  </thead>\n",
              "  <tbody>\n",
              "    <tr>\n",
              "      <th>0</th>\n",
              "      <td>1.0</td>\n",
              "      <td>11</td>\n",
              "      <td>6</td>\n",
              "      <td>4</td>\n",
              "      <td>2</td>\n",
              "      <td>4</td>\n",
              "      <td>4</td>\n",
              "      <td>1</td>\n",
              "      <td>2</td>\n",
              "      <td>0</td>\n",
              "      <td>...</td>\n",
              "      <td>0</td>\n",
              "      <td>6</td>\n",
              "      <td>15</td>\n",
              "      <td>1</td>\n",
              "      <td>1</td>\n",
              "      <td>0</td>\n",
              "      <td>0</td>\n",
              "      <td>0</td>\n",
              "      <td>0</td>\n",
              "      <td>1.0</td>\n",
              "    </tr>\n",
              "    <tr>\n",
              "      <th>1</th>\n",
              "      <td>2.0</td>\n",
              "      <td>15</td>\n",
              "      <td>6</td>\n",
              "      <td>5</td>\n",
              "      <td>8</td>\n",
              "      <td>4</td>\n",
              "      <td>3</td>\n",
              "      <td>0</td>\n",
              "      <td>8</td>\n",
              "      <td>1</td>\n",
              "      <td>...</td>\n",
              "      <td>0</td>\n",
              "      <td>6</td>\n",
              "      <td>23</td>\n",
              "      <td>0</td>\n",
              "      <td>6</td>\n",
              "      <td>0</td>\n",
              "      <td>0</td>\n",
              "      <td>0</td>\n",
              "      <td>0</td>\n",
              "      <td>2.0</td>\n",
              "    </tr>\n",
              "    <tr>\n",
              "      <th>2</th>\n",
              "      <td>3.0</td>\n",
              "      <td>10</td>\n",
              "      <td>6</td>\n",
              "      <td>0</td>\n",
              "      <td>2</td>\n",
              "      <td>2</td>\n",
              "      <td>1</td>\n",
              "      <td>0</td>\n",
              "      <td>2</td>\n",
              "      <td>4</td>\n",
              "      <td>...</td>\n",
              "      <td>0</td>\n",
              "      <td>6</td>\n",
              "      <td>11</td>\n",
              "      <td>0</td>\n",
              "      <td>0</td>\n",
              "      <td>0</td>\n",
              "      <td>0</td>\n",
              "      <td>0</td>\n",
              "      <td>0</td>\n",
              "      <td>3.0</td>\n",
              "    </tr>\n",
              "    <tr>\n",
              "      <th>3</th>\n",
              "      <td>4.0</td>\n",
              "      <td>7</td>\n",
              "      <td>6</td>\n",
              "      <td>0</td>\n",
              "      <td>2</td>\n",
              "      <td>0</td>\n",
              "      <td>1</td>\n",
              "      <td>0</td>\n",
              "      <td>0</td>\n",
              "      <td>4</td>\n",
              "      <td>...</td>\n",
              "      <td>0</td>\n",
              "      <td>6</td>\n",
              "      <td>6</td>\n",
              "      <td>0</td>\n",
              "      <td>1</td>\n",
              "      <td>0</td>\n",
              "      <td>0</td>\n",
              "      <td>0</td>\n",
              "      <td>0</td>\n",
              "      <td>4.0</td>\n",
              "    </tr>\n",
              "    <tr>\n",
              "      <th>4</th>\n",
              "      <td>5.0</td>\n",
              "      <td>6</td>\n",
              "      <td>6</td>\n",
              "      <td>1</td>\n",
              "      <td>3</td>\n",
              "      <td>2</td>\n",
              "      <td>4</td>\n",
              "      <td>1</td>\n",
              "      <td>2</td>\n",
              "      <td>3</td>\n",
              "      <td>...</td>\n",
              "      <td>0</td>\n",
              "      <td>6</td>\n",
              "      <td>11</td>\n",
              "      <td>3</td>\n",
              "      <td>0</td>\n",
              "      <td>2</td>\n",
              "      <td>0</td>\n",
              "      <td>0</td>\n",
              "      <td>0</td>\n",
              "      <td>5.0</td>\n",
              "    </tr>\n",
              "  </tbody>\n",
              "</table>\n",
              "<p>5 rows × 30 columns</p>\n",
              "</div>"
            ],
            "text/plain": [
              "   Time_Since_Morning  Station_Name-Station_Name_1  \\\n",
              "0                 1.0                           11   \n",
              "1                 2.0                           15   \n",
              "2                 3.0                           10   \n",
              "3                 4.0                            7   \n",
              "4                 5.0                            6   \n",
              "\n",
              "   Station_Name-Station_Name_2  Station_Name-Station_Name_3  \\\n",
              "0                            6                            4   \n",
              "1                            6                            5   \n",
              "2                            6                            0   \n",
              "3                            6                            0   \n",
              "4                            6                            1   \n",
              "\n",
              "   Station_Name-Station_Name_4  Station_Name-Station_Name_5  \\\n",
              "0                            2                            4   \n",
              "1                            8                            4   \n",
              "2                            2                            2   \n",
              "3                            2                            0   \n",
              "4                            3                            2   \n",
              "\n",
              "   Station_Name-Station_Name_6  Station_Name-Station_Name_7  \\\n",
              "0                            4                            1   \n",
              "1                            3                            0   \n",
              "2                            1                            0   \n",
              "3                            1                            0   \n",
              "4                            4                            1   \n",
              "\n",
              "   Station_Name-Station_Name_8  Station_Name-Station_Name_9  ...  \\\n",
              "0                            2                            0  ...   \n",
              "1                            8                            1  ...   \n",
              "2                            2                            4  ...   \n",
              "3                            0                            4  ...   \n",
              "4                            2                            3  ...   \n",
              "\n",
              "   Remarks-Remark_15  Remarks-Remark_2  Remarks-Remark_3  Remarks-Remark_4  \\\n",
              "0                  0                 6                15                 1   \n",
              "1                  0                 6                23                 0   \n",
              "2                  0                 6                11                 0   \n",
              "3                  0                 6                 6                 0   \n",
              "4                  0                 6                11                 3   \n",
              "\n",
              "   Remarks-Remark_5  Remarks-Remark_6  Remarks-Remark_7  Remarks-Remark_8  \\\n",
              "0                 1                 0                 0                 0   \n",
              "1                 6                 0                 0                 0   \n",
              "2                 0                 0                 0                 0   \n",
              "3                 1                 0                 0                 0   \n",
              "4                 0                 2                 0                 0   \n",
              "\n",
              "   Remarks-Remark_9  Time_Since_Shift_Start  \n",
              "0                 0                     1.0  \n",
              "1                 0                     2.0  \n",
              "2                 0                     3.0  \n",
              "3                 0                     4.0  \n",
              "4                 0                     5.0  \n",
              "\n",
              "[5 rows x 30 columns]"
            ]
          },
          "execution_count": 8,
          "metadata": {},
          "output_type": "execute_result"
        }
      ],
      "source": [
        "test2 = pd.read_csv('test_data_21onw.csv')\n",
        "test2.drop(columns=['Stop_Time'],inplace=True)\n",
        "test2.head()"
      ]
    },
    {
      "cell_type": "code",
      "execution_count": null,
      "metadata": {
        "id": "DDnSlGIKNqPO"
      },
      "outputs": [],
      "source": [
        "LOOK_BACK = 6\n",
        "FORECAST_RANGE = 1"
      ]
    },
    {
      "cell_type": "code",
      "execution_count": null,
      "metadata": {
        "id": "xnm1aVL6DgsC",
        "outputId": "84b84a9d-2333-4dad-dee1-c30f1a7526f0"
      },
      "outputs": [
        {
          "name": "stdout",
          "output_type": "stream",
          "text": [
            "(5352, 6, 30)\n",
            "(5352, 1, 30)\n",
            "(2779, 6, 30)\n",
            "(2779, 1, 30)\n"
          ]
        }
      ],
      "source": [
        "n_features = len(cpu_list)\n",
        "X_train, y_train = split_sequence(scaled_train, look_back=LOOK_BACK, forecast_horizon=FORECAST_RANGE)\n",
        "X_test, y_test = split_sequence(scaled_test, look_back=LOOK_BACK, forecast_horizon=FORECAST_RANGE)\n",
        "print(X_train.shape)\n",
        "print(y_train.shape)\n",
        "print(X_test.shape)\n",
        "print(y_test.shape)"
      ]
    },
    {
      "cell_type": "code",
      "execution_count": null,
      "metadata": {
        "id": "XTpPgRNpGkNW"
      },
      "outputs": [],
      "source": [
        "#create model with convolutional layer and pooling layer and lstm layer\n",
        "input_layer = Input(shape=(X_train.shape[1], X_train.shape[2]))\n",
        "conv_layer = Conv1D(filters=64, kernel_size=2, activation='relu')(input_layer)\n",
        "pool_layer = MaxPooling1D(pool_size=2)(conv_layer)\n",
        "lstm_layer = LSTM(50, activation='tanh')(pool_layer)\n",
        "repeat_layer = RepeatVector(FORECAST_RANGE)(lstm_layer)\n",
        "lstm_layer_2 = LSTM(50, activation='tanh', return_sequences=True)(repeat_layer)\n",
        "dropout_layer = Dropout(0.2)(lstm_layer_2)\n",
        "output_layer = Dense(n_features, activation='linear')(dropout_layer)\n",
        "new_model = Model(inputs=input_layer, outputs=output_layer)\n",
        "new_model.compile(optimizer='adam', loss='mse', metrics=['mse'])\n"
      ]
    },
    {
      "cell_type": "code",
      "execution_count": null,
      "metadata": {
        "id": "8bt9-ZoHbZ-F",
        "outputId": "1917f10b-9a6f-4891-fc78-af29ed6a7b32"
      },
      "outputs": [
        {
          "name": "stdout",
          "output_type": "stream",
          "text": [
            "Epoch 1/50\n",
            "151/151 [==============================] - ETA: 0s - loss: 0.0187 - mse: 0.0187"
          ]
        },
        {
          "name": "stderr",
          "output_type": "stream",
          "text": [
            "WARNING:absl:Found untraced functions such as _jit_compiled_convolution_op, lstm_cell_layer_call_fn, lstm_cell_layer_call_and_return_conditional_losses, lstm_cell_1_layer_call_fn, lstm_cell_1_layer_call_and_return_conditional_losses while saving (showing 5 of 5). These functions will not be directly callable after loading.\n"
          ]
        },
        {
          "name": "stdout",
          "output_type": "stream",
          "text": [
            "INFO:tensorflow:Assets written to: path_to_checkpoint_filepath\\assets\n"
          ]
        },
        {
          "name": "stderr",
          "output_type": "stream",
          "text": [
            "INFO:tensorflow:Assets written to: path_to_checkpoint_filepath\\assets\n"
          ]
        },
        {
          "name": "stdout",
          "output_type": "stream",
          "text": [
            "151/151 [==============================] - 18s 58ms/step - loss: 0.0187 - mse: 0.0187 - val_loss: 0.0108 - val_mse: 0.0108 - lr: 0.0010\n",
            "Epoch 2/50\n",
            "147/151 [============================>.] - ETA: 0s - loss: 0.0098 - mse: 0.0098"
          ]
        },
        {
          "name": "stderr",
          "output_type": "stream",
          "text": [
            "WARNING:absl:Found untraced functions such as _jit_compiled_convolution_op, lstm_cell_layer_call_fn, lstm_cell_layer_call_and_return_conditional_losses, lstm_cell_1_layer_call_fn, lstm_cell_1_layer_call_and_return_conditional_losses while saving (showing 5 of 5). These functions will not be directly callable after loading.\n"
          ]
        },
        {
          "name": "stdout",
          "output_type": "stream",
          "text": [
            "INFO:tensorflow:Assets written to: path_to_checkpoint_filepath\\assets\n"
          ]
        },
        {
          "name": "stderr",
          "output_type": "stream",
          "text": [
            "INFO:tensorflow:Assets written to: path_to_checkpoint_filepath\\assets\n"
          ]
        },
        {
          "name": "stdout",
          "output_type": "stream",
          "text": [
            "151/151 [==============================] - 7s 47ms/step - loss: 0.0098 - mse: 0.0098 - val_loss: 0.0079 - val_mse: 0.0079 - lr: 0.0010\n",
            "Epoch 3/50\n",
            "147/151 [============================>.] - ETA: 0s - loss: 0.0070 - mse: 0.0070"
          ]
        },
        {
          "name": "stderr",
          "output_type": "stream",
          "text": [
            "WARNING:absl:Found untraced functions such as _jit_compiled_convolution_op, lstm_cell_layer_call_fn, lstm_cell_layer_call_and_return_conditional_losses, lstm_cell_1_layer_call_fn, lstm_cell_1_layer_call_and_return_conditional_losses while saving (showing 5 of 5). These functions will not be directly callable after loading.\n"
          ]
        },
        {
          "name": "stdout",
          "output_type": "stream",
          "text": [
            "INFO:tensorflow:Assets written to: path_to_checkpoint_filepath\\assets\n"
          ]
        },
        {
          "name": "stderr",
          "output_type": "stream",
          "text": [
            "INFO:tensorflow:Assets written to: path_to_checkpoint_filepath\\assets\n"
          ]
        },
        {
          "name": "stdout",
          "output_type": "stream",
          "text": [
            "151/151 [==============================] - 7s 45ms/step - loss: 0.0070 - mse: 0.0070 - val_loss: 0.0063 - val_mse: 0.0063 - lr: 0.0010\n",
            "Epoch 4/50\n",
            "150/151 [============================>.] - ETA: 0s - loss: 0.0058 - mse: 0.0058"
          ]
        },
        {
          "name": "stderr",
          "output_type": "stream",
          "text": [
            "WARNING:absl:Found untraced functions such as _jit_compiled_convolution_op, lstm_cell_layer_call_fn, lstm_cell_layer_call_and_return_conditional_losses, lstm_cell_1_layer_call_fn, lstm_cell_1_layer_call_and_return_conditional_losses while saving (showing 5 of 5). These functions will not be directly callable after loading.\n"
          ]
        },
        {
          "name": "stdout",
          "output_type": "stream",
          "text": [
            "INFO:tensorflow:Assets written to: path_to_checkpoint_filepath\\assets\n"
          ]
        },
        {
          "name": "stderr",
          "output_type": "stream",
          "text": [
            "INFO:tensorflow:Assets written to: path_to_checkpoint_filepath\\assets\n"
          ]
        },
        {
          "name": "stdout",
          "output_type": "stream",
          "text": [
            "151/151 [==============================] - 7s 46ms/step - loss: 0.0058 - mse: 0.0058 - val_loss: 0.0059 - val_mse: 0.0059 - lr: 0.0010\n",
            "Epoch 5/50\n",
            "144/151 [===========================>..] - ETA: 0s - loss: 0.0054 - mse: 0.0054"
          ]
        },
        {
          "name": "stderr",
          "output_type": "stream",
          "text": [
            "WARNING:absl:Found untraced functions such as _jit_compiled_convolution_op, lstm_cell_layer_call_fn, lstm_cell_layer_call_and_return_conditional_losses, lstm_cell_1_layer_call_fn, lstm_cell_1_layer_call_and_return_conditional_losses while saving (showing 5 of 5). These functions will not be directly callable after loading.\n"
          ]
        },
        {
          "name": "stdout",
          "output_type": "stream",
          "text": [
            "INFO:tensorflow:Assets written to: path_to_checkpoint_filepath\\assets\n"
          ]
        },
        {
          "name": "stderr",
          "output_type": "stream",
          "text": [
            "INFO:tensorflow:Assets written to: path_to_checkpoint_filepath\\assets\n"
          ]
        },
        {
          "name": "stdout",
          "output_type": "stream",
          "text": [
            "151/151 [==============================] - 7s 45ms/step - loss: 0.0054 - mse: 0.0054 - val_loss: 0.0058 - val_mse: 0.0058 - lr: 0.0010\n",
            "Epoch 6/50\n",
            "150/151 [============================>.] - ETA: 0s - loss: 0.0052 - mse: 0.0052"
          ]
        },
        {
          "name": "stderr",
          "output_type": "stream",
          "text": [
            "WARNING:absl:Found untraced functions such as _jit_compiled_convolution_op, lstm_cell_layer_call_fn, lstm_cell_layer_call_and_return_conditional_losses, lstm_cell_1_layer_call_fn, lstm_cell_1_layer_call_and_return_conditional_losses while saving (showing 5 of 5). These functions will not be directly callable after loading.\n"
          ]
        },
        {
          "name": "stdout",
          "output_type": "stream",
          "text": [
            "INFO:tensorflow:Assets written to: path_to_checkpoint_filepath\\assets\n"
          ]
        },
        {
          "name": "stderr",
          "output_type": "stream",
          "text": [
            "INFO:tensorflow:Assets written to: path_to_checkpoint_filepath\\assets\n"
          ]
        },
        {
          "name": "stdout",
          "output_type": "stream",
          "text": [
            "151/151 [==============================] - 8s 53ms/step - loss: 0.0052 - mse: 0.0052 - val_loss: 0.0057 - val_mse: 0.0057 - lr: 0.0010\n",
            "Epoch 7/50\n",
            "146/151 [============================>.] - ETA: 0s - loss: 0.0049 - mse: 0.0049"
          ]
        },
        {
          "name": "stderr",
          "output_type": "stream",
          "text": [
            "WARNING:absl:Found untraced functions such as _jit_compiled_convolution_op, lstm_cell_layer_call_fn, lstm_cell_layer_call_and_return_conditional_losses, lstm_cell_1_layer_call_fn, lstm_cell_1_layer_call_and_return_conditional_losses while saving (showing 5 of 5). These functions will not be directly callable after loading.\n"
          ]
        },
        {
          "name": "stdout",
          "output_type": "stream",
          "text": [
            "INFO:tensorflow:Assets written to: path_to_checkpoint_filepath\\assets\n"
          ]
        },
        {
          "name": "stderr",
          "output_type": "stream",
          "text": [
            "INFO:tensorflow:Assets written to: path_to_checkpoint_filepath\\assets\n"
          ]
        },
        {
          "name": "stdout",
          "output_type": "stream",
          "text": [
            "151/151 [==============================] - 7s 49ms/step - loss: 0.0049 - mse: 0.0049 - val_loss: 0.0056 - val_mse: 0.0056 - lr: 0.0010\n",
            "Epoch 8/50\n",
            "151/151 [==============================] - ETA: 0s - loss: 0.0047 - mse: 0.0047"
          ]
        },
        {
          "name": "stderr",
          "output_type": "stream",
          "text": [
            "WARNING:absl:Found untraced functions such as _jit_compiled_convolution_op, lstm_cell_layer_call_fn, lstm_cell_layer_call_and_return_conditional_losses, lstm_cell_1_layer_call_fn, lstm_cell_1_layer_call_and_return_conditional_losses while saving (showing 5 of 5). These functions will not be directly callable after loading.\n"
          ]
        },
        {
          "name": "stdout",
          "output_type": "stream",
          "text": [
            "INFO:tensorflow:Assets written to: path_to_checkpoint_filepath\\assets\n"
          ]
        },
        {
          "name": "stderr",
          "output_type": "stream",
          "text": [
            "INFO:tensorflow:Assets written to: path_to_checkpoint_filepath\\assets\n"
          ]
        },
        {
          "name": "stdout",
          "output_type": "stream",
          "text": [
            "151/151 [==============================] - 7s 50ms/step - loss: 0.0047 - mse: 0.0047 - val_loss: 0.0055 - val_mse: 0.0055 - lr: 0.0010\n",
            "Epoch 9/50\n",
            "148/151 [============================>.] - ETA: 0s - loss: 0.0046 - mse: 0.0046"
          ]
        },
        {
          "name": "stderr",
          "output_type": "stream",
          "text": [
            "WARNING:absl:Found untraced functions such as _jit_compiled_convolution_op, lstm_cell_layer_call_fn, lstm_cell_layer_call_and_return_conditional_losses, lstm_cell_1_layer_call_fn, lstm_cell_1_layer_call_and_return_conditional_losses while saving (showing 5 of 5). These functions will not be directly callable after loading.\n"
          ]
        },
        {
          "name": "stdout",
          "output_type": "stream",
          "text": [
            "INFO:tensorflow:Assets written to: path_to_checkpoint_filepath\\assets\n"
          ]
        },
        {
          "name": "stderr",
          "output_type": "stream",
          "text": [
            "INFO:tensorflow:Assets written to: path_to_checkpoint_filepath\\assets\n"
          ]
        },
        {
          "name": "stdout",
          "output_type": "stream",
          "text": [
            "151/151 [==============================] - 7s 49ms/step - loss: 0.0046 - mse: 0.0046 - val_loss: 0.0055 - val_mse: 0.0055 - lr: 0.0010\n",
            "Epoch 10/50\n",
            "146/151 [============================>.] - ETA: 0s - loss: 0.0044 - mse: 0.0044"
          ]
        },
        {
          "name": "stderr",
          "output_type": "stream",
          "text": [
            "WARNING:absl:Found untraced functions such as _jit_compiled_convolution_op, lstm_cell_layer_call_fn, lstm_cell_layer_call_and_return_conditional_losses, lstm_cell_1_layer_call_fn, lstm_cell_1_layer_call_and_return_conditional_losses while saving (showing 5 of 5). These functions will not be directly callable after loading.\n"
          ]
        },
        {
          "name": "stdout",
          "output_type": "stream",
          "text": [
            "INFO:tensorflow:Assets written to: path_to_checkpoint_filepath\\assets\n"
          ]
        },
        {
          "name": "stderr",
          "output_type": "stream",
          "text": [
            "INFO:tensorflow:Assets written to: path_to_checkpoint_filepath\\assets\n"
          ]
        },
        {
          "name": "stdout",
          "output_type": "stream",
          "text": [
            "151/151 [==============================] - 7s 50ms/step - loss: 0.0045 - mse: 0.0045 - val_loss: 0.0054 - val_mse: 0.0054 - lr: 0.0010\n",
            "Epoch 11/50\n",
            "149/151 [============================>.] - ETA: 0s - loss: 0.0043 - mse: 0.0043"
          ]
        },
        {
          "name": "stderr",
          "output_type": "stream",
          "text": [
            "WARNING:absl:Found untraced functions such as _jit_compiled_convolution_op, lstm_cell_layer_call_fn, lstm_cell_layer_call_and_return_conditional_losses, lstm_cell_1_layer_call_fn, lstm_cell_1_layer_call_and_return_conditional_losses while saving (showing 5 of 5). These functions will not be directly callable after loading.\n"
          ]
        },
        {
          "name": "stdout",
          "output_type": "stream",
          "text": [
            "INFO:tensorflow:Assets written to: path_to_checkpoint_filepath\\assets\n"
          ]
        },
        {
          "name": "stderr",
          "output_type": "stream",
          "text": [
            "INFO:tensorflow:Assets written to: path_to_checkpoint_filepath\\assets\n"
          ]
        },
        {
          "name": "stdout",
          "output_type": "stream",
          "text": [
            "151/151 [==============================] - 8s 50ms/step - loss: 0.0043 - mse: 0.0043 - val_loss: 0.0054 - val_mse: 0.0054 - lr: 0.0010\n",
            "Epoch 12/50\n",
            "147/151 [============================>.] - ETA: 0s - loss: 0.0041 - mse: 0.0041"
          ]
        },
        {
          "name": "stderr",
          "output_type": "stream",
          "text": [
            "WARNING:absl:Found untraced functions such as _jit_compiled_convolution_op, lstm_cell_layer_call_fn, lstm_cell_layer_call_and_return_conditional_losses, lstm_cell_1_layer_call_fn, lstm_cell_1_layer_call_and_return_conditional_losses while saving (showing 5 of 5). These functions will not be directly callable after loading.\n"
          ]
        },
        {
          "name": "stdout",
          "output_type": "stream",
          "text": [
            "INFO:tensorflow:Assets written to: path_to_checkpoint_filepath\\assets\n"
          ]
        },
        {
          "name": "stderr",
          "output_type": "stream",
          "text": [
            "INFO:tensorflow:Assets written to: path_to_checkpoint_filepath\\assets\n"
          ]
        },
        {
          "name": "stdout",
          "output_type": "stream",
          "text": [
            "151/151 [==============================] - 7s 49ms/step - loss: 0.0041 - mse: 0.0041 - val_loss: 0.0051 - val_mse: 0.0051 - lr: 0.0010\n",
            "Epoch 13/50\n",
            "148/151 [============================>.] - ETA: 0s - loss: 0.0040 - mse: 0.0040"
          ]
        },
        {
          "name": "stderr",
          "output_type": "stream",
          "text": [
            "WARNING:absl:Found untraced functions such as _jit_compiled_convolution_op, lstm_cell_layer_call_fn, lstm_cell_layer_call_and_return_conditional_losses, lstm_cell_1_layer_call_fn, lstm_cell_1_layer_call_and_return_conditional_losses while saving (showing 5 of 5). These functions will not be directly callable after loading.\n"
          ]
        },
        {
          "name": "stdout",
          "output_type": "stream",
          "text": [
            "INFO:tensorflow:Assets written to: path_to_checkpoint_filepath\\assets\n"
          ]
        },
        {
          "name": "stderr",
          "output_type": "stream",
          "text": [
            "INFO:tensorflow:Assets written to: path_to_checkpoint_filepath\\assets\n"
          ]
        },
        {
          "name": "stdout",
          "output_type": "stream",
          "text": [
            "151/151 [==============================] - 7s 50ms/step - loss: 0.0040 - mse: 0.0040 - val_loss: 0.0049 - val_mse: 0.0049 - lr: 0.0010\n",
            "Epoch 14/50\n",
            "151/151 [==============================] - 1s 9ms/step - loss: 0.0038 - mse: 0.0038 - val_loss: 0.0049 - val_mse: 0.0049 - lr: 0.0010\n",
            "Epoch 15/50\n",
            "147/151 [============================>.] - ETA: 0s - loss: 0.0037 - mse: 0.0037"
          ]
        },
        {
          "name": "stderr",
          "output_type": "stream",
          "text": [
            "WARNING:absl:Found untraced functions such as _jit_compiled_convolution_op, lstm_cell_layer_call_fn, lstm_cell_layer_call_and_return_conditional_losses, lstm_cell_1_layer_call_fn, lstm_cell_1_layer_call_and_return_conditional_losses while saving (showing 5 of 5). These functions will not be directly callable after loading.\n"
          ]
        },
        {
          "name": "stdout",
          "output_type": "stream",
          "text": [
            "INFO:tensorflow:Assets written to: path_to_checkpoint_filepath\\assets\n"
          ]
        },
        {
          "name": "stderr",
          "output_type": "stream",
          "text": [
            "INFO:tensorflow:Assets written to: path_to_checkpoint_filepath\\assets\n"
          ]
        },
        {
          "name": "stdout",
          "output_type": "stream",
          "text": [
            "151/151 [==============================] - 8s 50ms/step - loss: 0.0037 - mse: 0.0037 - val_loss: 0.0047 - val_mse: 0.0047 - lr: 0.0010\n",
            "mae: tf.Tensor(0.472809, shape=(), dtype=float32)\n",
            "mse: tf.Tensor(1.9031357, shape=(), dtype=float32)\n",
            "mape: tf.Tensor(160639620.0, shape=(), dtype=float32)\n"
          ]
        }
      ],
      "source": [
        "    #plot model\n",
        "plot_model(model=new_model, show_shapes=True)\n",
        "history = new_model.fit(X_train, y_train, epochs=epochs, batch_size=batch_size, validation_split=validation,callbacks=[early_stopping_callback,checkpoint_callback, rlrop_callback])\n",
        "\n",
        "yhat = new_model.predict(X_test, verbose=0)\n",
        "yhat_inverse, y_test_inverse = inverse_transform(y_test, yhat)\n",
        "evaluate_forecast(y_test_inverse, yhat_inverse)"
      ]
    },
    {
      "cell_type": "code",
      "execution_count": null,
      "metadata": {
        "id": "aakPI05VbZ-F"
      },
      "outputs": [],
      "source": [
        "new_model.save('new_model_early_stop.h5')\n"
      ]
    },
    {
      "cell_type": "code",
      "execution_count": null,
      "metadata": {
        "id": "5ZqTOLw-bZ-F",
        "outputId": "9f4cf422-55a0-43bf-ff91-b1d3aaeccda9"
      },
      "outputs": [
        {
          "name": "stdout",
          "output_type": "stream",
          "text": [
            "Model: \"model\"\n",
            "_________________________________________________________________\n",
            " Layer (type)                Output Shape              Param #   \n",
            "=================================================================\n",
            " input_1 (InputLayer)        [(None, 6, 30)]           0         \n",
            "                                                                 \n",
            " conv1d (Conv1D)             (None, 5, 64)             3904      \n",
            "                                                                 \n",
            " max_pooling1d (MaxPooling1D  (None, 2, 64)            0         \n",
            " )                                                               \n",
            "                                                                 \n",
            " lstm (LSTM)                 (None, 50)                23000     \n",
            "                                                                 \n",
            " repeat_vector (RepeatVector  (None, 1, 50)            0         \n",
            " )                                                               \n",
            "                                                                 \n",
            " lstm_1 (LSTM)               (None, 1, 50)             20200     \n",
            "                                                                 \n",
            " dropout (Dropout)           (None, 1, 50)             0         \n",
            "                                                                 \n",
            " dense (Dense)               (None, 1, 30)             1530      \n",
            "                                                                 \n",
            "=================================================================\n",
            "Total params: 48,634\n",
            "Trainable params: 48,634\n",
            "Non-trainable params: 0\n",
            "_________________________________________________________________\n",
            "None\n"
          ]
        }
      ],
      "source": [
        "new_model_stop = tf.keras.models.load_model('new_model_early_stop.h5')\n",
        "print(new_model_stop.summary())"
      ]
    }
  ],
  "metadata": {
    "colab": {
      "provenance": []
    },
    "kernelspec": {
      "display_name": "Python 3",
      "language": "python",
      "name": "python3"
    },
    "language_info": {
      "codemirror_mode": {
        "name": "ipython",
        "version": 3
      },
      "file_extension": ".py",
      "mimetype": "text/x-python",
      "name": "python",
      "nbconvert_exporter": "python",
      "pygments_lexer": "ipython3",
      "version": "3.8.8"
    },
    "vscode": {
      "interpreter": {
        "hash": "2095dad001f56cb444702e9ce98118c9316c0e07b9868cfd27332b7e19c17f72"
      }
    }
  },
  "nbformat": 4,
  "nbformat_minor": 0
}